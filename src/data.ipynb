{
 "cells": [
  {
   "cell_type": "code",
   "execution_count": null,
   "id": "2f06c55f",
   "metadata": {},
   "outputs": [],
   "source": [
    "\"\"\"Read CSV into data frame.\"\"\"\n",
    "\n",
    "import pandas as pd\n",
    "\n",
    "df = pd.read_csv(\n",
    "    '../data/Sensorless_drive_diagnosis.csv', \n",
    "    sep=' ', \n",
    "    header=None,\n",
    ")\n",
    "\n",
    "print(df)\n",
    "print(df.shape)"
   ]
  },
  {
   "cell_type": "code",
   "execution_count": null,
   "id": "8c31f60b",
   "metadata": {},
   "outputs": [],
   "source": [
    "\"\"\"Check missing values by summing over isna'd rows.\n",
    "value>0 indicates missing value(s).\n",
    "\"\"\"\n",
    "\n",
    "print(df.isna().sum())"
   ]
  },
  {
   "cell_type": "code",
   "execution_count": null,
   "id": "f78eac24",
   "metadata": {},
   "outputs": [],
   "source": [
    "\"\"\"Remove missing values.\"\"\"\n",
    "\n",
    "# df = df.dropna()\n",
    "# print(df.head(10))"
   ]
  },
  {
   "cell_type": "code",
   "execution_count": null,
   "id": "caa7f709",
   "metadata": {},
   "outputs": [],
   "source": [
    "\"\"\"Split data into input features x and target labels y.\"\"\"\n",
    "\n",
    "# Shuffle\n",
    "#df = df.sample(\n",
    "#    frac=1,  # All rows\n",
    "#)\n",
    "\n",
    "x = df.loc[:,0:df.shape[1]-2]\n",
    "y = df.loc[:,df.shape[1]-1]\n",
    "\n",
    "print(\"x type: {}\".format(type(x)))\n",
    "print(\"x shape: {}\".format(x.shape))\n",
    "\n",
    "print(\"y type: {}\".format(type(y)))\n",
    "print(\"y shape: {}\".format(y.shape))"
   ]
  },
  {
   "cell_type": "code",
   "execution_count": null,
   "id": "1f87ac68",
   "metadata": {},
   "outputs": [],
   "source": [
    "\"\"\"Print x statistics\"\"\"\n",
    "\n",
    "print(x.describe())"
   ]
  },
  {
   "cell_type": "code",
   "execution_count": null,
   "id": "60a4b3ce",
   "metadata": {},
   "outputs": [],
   "source": [
    "\"\"\"Check labels for imbalanced distribution of target labels.\"\"\"\n",
    "\n",
    "print(df.groupby(y).size())"
   ]
  },
  {
   "cell_type": "code",
   "execution_count": null,
   "id": "43400953",
   "metadata": {},
   "outputs": [],
   "source": [
    "\"\"\"Normalize x values via global scaling.\"\"\"\n",
    "\n",
    "import sklearn.preprocessing\n",
    "\n",
    "scaler = sklearn.preprocessing.MinMaxScaler(feature_range=(0, 1))\n",
    "\n",
    "x_transformed = scaler.fit_transform(x)\n",
    "x_df = pd.DataFrame(x_transformed)\n",
    "\n",
    "print(x_df)\n",
    "print(\"x_df type: {}\".format(type(x_df)))\n",
    "print(\"x_df shape: {}\".format(x_df.shape))"
   ]
  },
  {
   "cell_type": "code",
   "execution_count": null,
   "id": "fb1e3e78",
   "metadata": {},
   "outputs": [],
   "source": [
    "\"\"\"Convert y into dummy/indicator variables.\n",
    "(i.e. Y -> one-hot encoding)\n",
    "\"\"\"\n",
    "\n",
    "y_df = pd.get_dummies(y)\n",
    "# If target is in string form, use following code:\n",
    "# First encode target values as integers from string\n",
    "# Then perform one hot encoding\n",
    "# encoder = LabelEncoder()\n",
    "# encoder.fit(Y)\n",
    "# Y = encoder.transform(Y)\n",
    "# Y = np_utils.to_categorical(Y)\n",
    "\n",
    "print(y_df)\n",
    "print(\"y_df type: {}\".format(type(y_df)))\n",
    "print(\"y_df shape: {}\".format(y_df.shape))"
   ]
  },
  {
   "cell_type": "code",
   "execution_count": null,
   "id": "59bb2569",
   "metadata": {},
   "outputs": [],
   "source": [
    "\"\"\"Drop axes labels from data frames.\"\"\"\n",
    "\n",
    "x_ar = x_df.values\n",
    "y_ar = y_df.values\n",
    "\n",
    "print(\"x_ar type: {}\".format(type(x_ar)))\n",
    "print(\"x_ar shape: {}\".format(x_ar.shape))\n",
    "\n",
    "print(\"y_ar type: {}\".format(type(y_ar)))\n",
    "print(\"y_ar shape: {}\".format(y_ar.shape))"
   ]
  },
  {
   "cell_type": "code",
   "execution_count": null,
   "id": "afd4be38",
   "metadata": {},
   "outputs": [],
   "source": [
    "\"\"\"Split x and y into train, val and test sets.\"\"\"\n",
    "\n",
    "#val_size = 5000\n",
    "#test_size = 5000\n",
    "\n",
    "#x_val = x_ar[-val_size:]\n",
    "#x_test = x_ar[val_size:val_size+test_size]\n",
    "#x_train = x_ar[:-(val_size+test_size)]\n",
    "\n",
    "#y_val = y_ar[-val_size:]\n",
    "#y_test = y_ar[val_size:val_size+test_size]\n",
    "#y_train = y_ar[:-(val_size+test_size)]\n",
    "\n",
    "import sklearn.model_selection\n",
    "\n",
    "# 60 - 20 - 20 split\n",
    "\n",
    "x_train, x_test, y_train, y_test = sklearn.model_selection.train_test_split(\n",
    "    x_ar,\n",
    "    y_ar,\n",
    "    test_size=0.2,\n",
    "    random_state=1,\n",
    "    stratify=y_ar,  # Only necessary in case of class imbalance\n",
    ")\n",
    "\n",
    "x_train, x_val, y_train, y_val = sklearn.model_selection.train_test_split(\n",
    "    x_train,\n",
    "    y_train,\n",
    "    test_size=0.25,\n",
    "    random_state=1,\n",
    "    stratify=y_train, # Only necessary in case of class imbalance\n",
    ")\n",
    "\n",
    "print(\"x_ar shape: {}\".format(x_ar.shape))\n",
    "print(\"x_val shape: {}\".format(x_val.shape))\n",
    "print(\"x_test shape: {}\".format(x_test.shape))\n",
    "print(\"x_train shape: {}\".format(x_train.shape))\n",
    "\n",
    "print(\"y_ar shape: {}\".format(y_ar.shape))\n",
    "print(\"y_val shape: {}\".format(y_val.shape))\n",
    "print(\"y_test shape: {}\".format(y_test.shape))\n",
    "print(\"y_train shape: {}\".format(y_train.shape))"
   ]
  }
 ],
 "metadata": {
  "kernelspec": {
   "display_name": "tensorflow",
   "language": "python",
   "name": "tensorflow"
  },
  "language_info": {
   "codemirror_mode": {
    "name": "ipython",
    "version": 3
   },
   "file_extension": ".py",
   "mimetype": "text/x-python",
   "name": "python",
   "nbconvert_exporter": "python",
   "pygments_lexer": "ipython3",
   "version": "3.9.7"
  }
 },
 "nbformat": 4,
 "nbformat_minor": 5
}
