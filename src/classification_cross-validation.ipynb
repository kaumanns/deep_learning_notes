{
 "cells": [
  {
   "cell_type": "code",
   "execution_count": null,
   "id": "8cf5f266",
   "metadata": {},
   "outputs": [],
   "source": [
    "!pip install -r requirements.txt"
   ]
  },
  {
   "cell_type": "code",
   "execution_count": null,
   "id": "ba9c1d91",
   "metadata": {},
   "outputs": [],
   "source": [
    "%run ./data.ipynb"
   ]
  },
  {
   "cell_type": "code",
   "execution_count": null,
   "id": "000ac9cd",
   "metadata": {},
   "outputs": [],
   "source": [
    "\"\"\"Define models.\"\"\"\n",
    "\n",
    "import keras\n",
    "import numpy as np\n",
    "\n",
    "seed = 10\n",
    "np.random.seed(seed)\n",
    "\n",
    "\n",
    "def simple_model(input_dim: int, output_dim: int):\n",
    "    model = keras.models.Sequential(\n",
    "        [\n",
    "            keras.layers.Dense(15, input_shape=(input_dim,), activation='relu'),\n",
    "            keras.layers.Dense(15, activation='relu'),\n",
    "            keras.layers.Dense(output_dim, activation='softmax'),\n",
    "        ]\n",
    "    )\n",
    "    \n",
    "    model.compile(\n",
    "        loss='categorical_crossentropy', \n",
    "        optimizer='adam',\n",
    "        metrics=['accuracy'],\n",
    "    )\n",
    "    \n",
    "    return model"
   ]
  },
  {
   "cell_type": "code",
   "execution_count": null,
   "id": "46257b18",
   "metadata": {},
   "outputs": [],
   "source": [
    "model = simple_model(\n",
    "    input_dim=x_ar.shape[1],\n",
    "    output_dim=y_ar.shape[1],\n",
    ")\n",
    "\n",
    "model.summary()\n",
    "\n",
    "checkpoint = keras.callbacks.ModelCheckpoint(\n",
    "    filepath=\"../models/simple-{epoch:02d}-{val_loss:.2f}.hdf5\",\n",
    "    monitor=\"val_loss\",\n",
    "    verbose=0,\n",
    "    save_best_only=False,\n",
    "    mode=\"auto\",\n",
    "    save_freq=\"epoch\",\n",
    ")\n",
    "\n",
    "history = model.fit(\n",
    "    x_ar,\n",
    "    y_ar,\n",
    "    batch_size=100,\n",
    "    epochs=2,\n",
    "    shuffle=True,\n",
    "    validation_split=0.2,\n",
    "    callbacks=[checkpoint],\n",
    ")"
   ]
  },
  {
   "cell_type": "code",
   "execution_count": null,
   "id": "6bdb9ffd",
   "metadata": {},
   "outputs": [],
   "source": [
    "\"\"\"Plot accuracies.\"\"\"\n",
    "\n",
    "import matplotlib.pyplot as plt\n",
    "\n",
    "def plot_accuracies(history):\n",
    "    plt.plot(history['accuracy'])\n",
    "    plt.plot(history['val_accuracy'])\n",
    "    \n",
    "    plt.title('model accuracy')\n",
    "    \n",
    "    plt.ylabel('accuracy')\n",
    "    plt.xlabel('epoch')\n",
    "    \n",
    "    plt.legend(['train', 'test'])\n",
    "    \n",
    "    plt.savefig('accuracy')    \n",
    "    \n",
    "plot_accuracies(history.history)"
   ]
  },
  {
   "cell_type": "code",
   "execution_count": null,
   "id": "2285f475",
   "metadata": {},
   "outputs": [],
   "source": [
    "\"\"\"Define cross validation schema.\"\"\"\n",
    "\n",
    "from sklearn.model_selection import KFold\n",
    "\n",
    "# KFold Cross Validation\n",
    "kfold = KFold(\n",
    "    n_splits=5, \n",
    "    shuffle=True,\n",
    "    random_state=seed,\n",
    ")"
   ]
  },
  {
   "cell_type": "code",
   "execution_count": null,
   "id": "afc35606",
   "metadata": {},
   "outputs": [],
   "source": [
    "\"\"\"Define training schema (estimator).\"\"\"\n",
    "\n",
    "from keras.wrappers.scikit_learn import KerasClassifier\n",
    "\n",
    "estimator = KerasClassifier(\n",
    "    build_fn=lambda: baseline_model(\n",
    "        input_dim=x_ar.shape[1],\n",
    "        output_dim=y_ar.shape[1],\n",
    "    ), \n",
    "    epochs=1,\n",
    "    batch_size=1000,\n",
    "    verbose=0,\n",
    ")"
   ]
  },
  {
   "cell_type": "code",
   "execution_count": null,
   "id": "2ec3e701",
   "metadata": {},
   "outputs": [],
   "source": [
    "\"\"\"Train estimator on cross-validation schema and collect results.\"\"\"\n",
    "\n",
    "import sklearn.model_selection \n",
    "\n",
    "results = sklearn.model_selection.cross_val_score(\n",
    "    estimator, \n",
    "    x_ar, \n",
    "    y_ar, \n",
    "    cv=kfold,\n",
    ")\n",
    "\n",
    "print(results)\n",
    "\n",
    "print(\n",
    "    \"Result: %.2f%% (%.2f%%)\" % (\n",
    "        results.mean()*100, \n",
    "        results.std()*100,\n",
    "    )\n",
    ")"
   ]
  }
 ],
 "metadata": {
  "kernelspec": {
   "display_name": "tensorflow",
   "language": "python",
   "name": "tensorflow"
  },
  "language_info": {
   "codemirror_mode": {
    "name": "ipython",
    "version": 3
   },
   "file_extension": ".py",
   "mimetype": "text/x-python",
   "name": "python",
   "nbconvert_exporter": "python",
   "pygments_lexer": "ipython3",
   "version": "3.9.7"
  }
 },
 "nbformat": 4,
 "nbformat_minor": 5
}
