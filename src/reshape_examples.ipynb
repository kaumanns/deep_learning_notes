{
 "cells": [
  {
   "cell_type": "code",
   "execution_count": 16,
   "id": "9325a39d",
   "metadata": {},
   "outputs": [],
   "source": [
    "import numpy as np\n",
    "from pprint import pprint"
   ]
  },
  {
   "cell_type": "code",
   "execution_count": 9,
   "id": "87cbca77",
   "metadata": {},
   "outputs": [],
   "source": [
    "a = np.array(\n",
    "    [\n",
    "        [\n",
    "            [1.1, 2.1, 3.1],\n",
    "            [4.1, 5.1, 6.1],\n",
    "            [7.1, 8.1, 9.1]\n",
    "        ],\n",
    "        [\n",
    "            [1.2, 2.2, 3.2],\n",
    "            [4.2, 5.2, 6.2],\n",
    "            [7.2, 8.2, 9.2]\n",
    "        ],\n",
    "        [\n",
    "            [1.3, 2.3, 3.3],\n",
    "            [4.3, 5.3, 6.3],\n",
    "            [7.3, 8.3, 9.3]\n",
    "        ],\n",
    "        [\n",
    "            [1.4, 2.4, 3.4],\n",
    "            [4.4, 5.4, 6.4],\n",
    "            [7.4, 8.4, 9.4]\n",
    "        ]\n",
    "    ]\n",
    ")"
   ]
  },
  {
   "cell_type": "code",
   "execution_count": 6,
   "id": "f96e43fb",
   "metadata": {},
   "outputs": [
    {
     "data": {
      "text/plain": [
       "(4, 3, 3)"
      ]
     },
     "execution_count": 6,
     "metadata": {},
     "output_type": "execute_result"
    }
   ],
   "source": [
    "a.shape"
   ]
  },
  {
   "cell_type": "code",
   "execution_count": 38,
   "id": "af8e6383",
   "metadata": {},
   "outputs": [
    {
     "name": "stdout",
     "output_type": "stream",
     "text": [
      "[1.1,\n",
      " 2.1,\n",
      " 3.1,\n",
      " 4.1,\n",
      " 5.1,\n",
      " 6.1,\n",
      " 7.1,\n",
      " 8.1,\n",
      " 9.1,\n",
      " 1.2,\n",
      " 2.2,\n",
      " 3.2,\n",
      " 4.2,\n",
      " 5.2,\n",
      " 6.2,\n",
      " 7.2,\n",
      " 8.2,\n",
      " 9.2,\n",
      " 1.3,\n",
      " 2.3,\n",
      " 3.3,\n",
      " 4.3,\n",
      " 5.3,\n",
      " 6.3,\n",
      " 7.3,\n",
      " 8.3,\n",
      " 9.3,\n",
      " 1.4,\n",
      " 2.4,\n",
      " 3.4,\n",
      " 4.4,\n",
      " 5.4,\n",
      " 6.4,\n",
      " 7.4,\n",
      " 8.4,\n",
      " 9.4]\n"
     ]
    }
   ],
   "source": [
    "pprint(a.ravel().tolist())"
   ]
  },
  {
   "cell_type": "code",
   "execution_count": 34,
   "id": "d53a1ec6",
   "metadata": {},
   "outputs": [
    {
     "name": "stdout",
     "output_type": "stream",
     "text": [
      "[[[[1.1, 2.1], [3.1, 4.1], [5.1, 6.1]],\n",
      "  [[7.1, 8.1], [9.1, 1.2], [2.2, 3.2]],\n",
      "  [[4.2, 5.2], [6.2, 7.2], [8.2, 9.2]]],\n",
      " [[[1.3, 2.3], [3.3, 4.3], [5.3, 6.3]],\n",
      "  [[7.3, 8.3], [9.3, 1.4], [2.4, 3.4]],\n",
      "  [[4.4, 5.4], [6.4, 7.4], [8.4, 9.4]]]]\n"
     ]
    },
    {
     "data": {
      "text/plain": [
       "(2, 3, 3, 2)"
      ]
     },
     "execution_count": 34,
     "metadata": {},
     "output_type": "execute_result"
    }
   ],
   "source": [
    "b = a.reshape(2,3,3,2)\n",
    "\n",
    "pprint(b.tolist())\n",
    "b.shape"
   ]
  },
  {
   "cell_type": "code",
   "execution_count": 32,
   "id": "f5530f76",
   "metadata": {},
   "outputs": [
    {
     "name": "stdout",
     "output_type": "stream",
     "text": [
      "[[1.1, 2.1, 3.1, 4.1, 5.1, 6.1, 7.1, 8.1, 9.1],\n",
      " [1.2, 2.2, 3.2, 4.2, 5.2, 6.2, 7.2, 8.2, 9.2],\n",
      " [1.3, 2.3, 3.3, 4.3, 5.3, 6.3, 7.3, 8.3, 9.3],\n",
      " [1.4, 2.4, 3.4, 4.4, 5.4, 6.4, 7.4, 8.4, 9.4]]\n"
     ]
    },
    {
     "data": {
      "text/plain": [
       "(4, 9)"
      ]
     },
     "execution_count": 32,
     "metadata": {},
     "output_type": "execute_result"
    }
   ],
   "source": [
    "b = a.reshape(4,9)\n",
    "\n",
    "pprint(b.tolist())\n",
    "b.shape"
   ]
  }
 ],
 "metadata": {
  "kernelspec": {
   "display_name": "venv",
   "language": "python",
   "name": "venv"
  },
  "language_info": {
   "codemirror_mode": {
    "name": "ipython",
    "version": 3
   },
   "file_extension": ".py",
   "mimetype": "text/x-python",
   "name": "python",
   "nbconvert_exporter": "python",
   "pygments_lexer": "ipython3",
   "version": "3.9.7"
  }
 },
 "nbformat": 4,
 "nbformat_minor": 5
}
